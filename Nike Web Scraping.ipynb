{
 "cells": [
  {
   "cell_type": "code",
   "execution_count": 1,
   "id": "be31b0ed",
   "metadata": {},
   "outputs": [
    {
     "name": "stdout",
     "output_type": "stream",
     "text": [
      "Requirement already satisfied: bs4 in c:\\users\\manisha singh\\onedrive\\documents\\python scripts\\lib\\site-packages (0.0.1)\n",
      "Requirement already satisfied: beautifulsoup4 in c:\\users\\manisha singh\\onedrive\\documents\\python scripts\\lib\\site-packages (from bs4) (4.12.2)\n",
      "Requirement already satisfied: soupsieve>1.2 in c:\\users\\manisha singh\\onedrive\\documents\\python scripts\\lib\\site-packages (from beautifulsoup4->bs4) (2.4)\n",
      "Requirement already satisfied: requests in c:\\users\\manisha singh\\onedrive\\documents\\python scripts\\lib\\site-packages (2.31.0)\n",
      "Requirement already satisfied: charset-normalizer<4,>=2 in c:\\users\\manisha singh\\onedrive\\documents\\python scripts\\lib\\site-packages (from requests) (2.0.4)\n",
      "Requirement already satisfied: idna<4,>=2.5 in c:\\users\\manisha singh\\onedrive\\documents\\python scripts\\lib\\site-packages (from requests) (3.4)\n",
      "Requirement already satisfied: urllib3<3,>=1.21.1 in c:\\users\\manisha singh\\onedrive\\documents\\python scripts\\lib\\site-packages (from requests) (1.26.16)\n",
      "Requirement already satisfied: certifi>=2017.4.17 in c:\\users\\manisha singh\\onedrive\\documents\\python scripts\\lib\\site-packages (from requests) (2023.7.22)\n"
     ]
    }
   ],
   "source": [
    "!pip install bs4\n",
    "!pip install requests"
   ]
  },
  {
   "cell_type": "code",
   "execution_count": 10,
   "id": "2739ee8d",
   "metadata": {},
   "outputs": [],
   "source": [
    "import requests\n",
    "from bs4 import BeautifulSoup\n",
    "import pandas as pd\n",
    "import bs4\n"
   ]
  },
  {
   "cell_type": "code",
   "execution_count": 11,
   "id": "a2c2c360",
   "metadata": {},
   "outputs": [],
   "source": [
    "headers = {'User-Agent': 'Mozilla/5.0 (Windows NT 10.0; Win64; x64) AppleWebKit/537.36 (KHTML, like Gecko) Chrome/58.0.3029.110 Safari/537.3'}\n",
    "\n",
    "\n",
    "Webpage = requests.get('https://www.nike.com/in/w/mens-shoes-nik1zy7ok', headers=headers).text"
   ]
  },
  {
   "cell_type": "code",
   "execution_count": 12,
   "id": "4e171402",
   "metadata": {},
   "outputs": [],
   "source": [
    "Soup = BeautifulSoup (Webpage,'lxml')"
   ]
  },
  {
   "cell_type": "code",
   "execution_count": 13,
   "id": "86ca84ac",
   "metadata": {},
   "outputs": [],
   "source": [
    "def my_url(keyyword):\n",
    "    keyword = keyyword.replace(' ', '%20')\n",
    "    url = 'https://www.nike.com/w?q={}'.format(keyword)\n",
    "    return url\n",
    "\n",
    "def extract_data(obj):\n",
    "    name = obj.find('div', 'product-card__title').text.strip()\n",
    "    description = obj.find('div', 'product-card__subtitle').text.strip()\n",
    "    color = obj.find('div','product-card__count-item').text\n",
    "    url2 = obj.find('a', 'product-card__link-overlay').get('href')\n",
    "    \n",
    "    #use a try block incase because the price might be in the discount block\n",
    "    try:\n",
    "        price = obj.find('div', 'product-price us__styling is--current-price css-11s12ax').text\n",
    "    except AttributeError:\n",
    "        price = obj.find('div','product-price is--current-price css-1ydfahe').text\n",
    "        \n",
    "    try:\n",
    "        old_price = obj.find('div','product-price us__styling is--striked-out css-0').text\n",
    "    except AttributeError:\n",
    "        old_price = ''\n",
    "        \n",
    "    data = requests.get(url2)\n",
    "    soup2 = bs4.BeautifulSoup(data.text, 'html.parser')\n",
    "    image = soup2.find('img', class_ = 'css-viwop1 u-full-width u-full-height css-m5dkrx').get('src')\n",
    "    \n",
    "    result = (name, description, color, price, old_price, image, url2)\n",
    "    return result\n",
    "    \n",
    "def search(keyword):\n",
    "    records = []\n",
    "    url = my_url(keyword)\n",
    "    \n",
    "    response = requests.get(url)\n",
    "    soup = bs4.BeautifulSoup(response.text, 'html.parser')\n",
    "    soup_results = soup.findAll('div', class_ = 'product-card__body')\n",
    "    for item in soup_results:\n",
    "        record = extract_data(item)\n",
    "        if record:\n",
    "            records.append(record)\n",
    "    \n",
    "    # Convert list to dataframe\n",
    "    columns_ = ['Name','Description','Available In', 'Price', 'Old Price', 'Image Link', 'URL']\n",
    "    df = pd.DataFrame(records, columns = columns_)\n",
    "    \n",
    "    return df\n",
    "    \n",
    "    # To store data in csv file, Run this\n",
    "    # with open('Nike_Results.csv','w', newline = '', encoding = 'utf-8') as f:\n",
    "    #     writer = csv.writer(f)\n",
    "    #     writer.writerow(['Name','Description','Available In', 'Price', 'Old Price', 'Image Link', 'URL'])\n",
    "    #     writer.writerows(records)"
   ]
  },
  {
   "cell_type": "markdown",
   "id": "a471b502",
   "metadata": {},
   "source": [
    "# Testing\n"
   ]
  },
  {
   "cell_type": "code",
   "execution_count": 14,
   "id": "26ecef90",
   "metadata": {},
   "outputs": [
    {
     "data": {
      "text/html": [
       "<div>\n",
       "<style scoped>\n",
       "    .dataframe tbody tr th:only-of-type {\n",
       "        vertical-align: middle;\n",
       "    }\n",
       "\n",
       "    .dataframe tbody tr th {\n",
       "        vertical-align: top;\n",
       "    }\n",
       "\n",
       "    .dataframe thead th {\n",
       "        text-align: right;\n",
       "    }\n",
       "</style>\n",
       "<table border=\"1\" class=\"dataframe\">\n",
       "  <thead>\n",
       "    <tr style=\"text-align: right;\">\n",
       "      <th></th>\n",
       "      <th>Name</th>\n",
       "      <th>Description</th>\n",
       "      <th>Available In</th>\n",
       "      <th>Price</th>\n",
       "      <th>Old Price</th>\n",
       "      <th>Image Link</th>\n",
       "      <th>URL</th>\n",
       "    </tr>\n",
       "  </thead>\n",
       "  <tbody>\n",
       "    <tr>\n",
       "      <th>0</th>\n",
       "      <td>Nike Skills</td>\n",
       "      <td>Kids' Basketball</td>\n",
       "      <td>1 Color</td>\n",
       "      <td>$15</td>\n",
       "      <td></td>\n",
       "      <td>https://static.nike.com/a/images/t_PDP_1280_v1...</td>\n",
       "      <td>https://www.nike.com/t/skills-kids-basketball-...</td>\n",
       "    </tr>\n",
       "    <tr>\n",
       "      <th>1</th>\n",
       "      <td>Premier League Academy</td>\n",
       "      <td>Soccer Ball</td>\n",
       "      <td>3 Colors</td>\n",
       "      <td>$27.97</td>\n",
       "      <td>$37</td>\n",
       "      <td>https://static.nike.com/a/images/t_PDP_1280_v1...</td>\n",
       "      <td>https://www.nike.com/t/premier-league-academy-...</td>\n",
       "    </tr>\n",
       "    <tr>\n",
       "      <th>2</th>\n",
       "      <td>Jordan Skills</td>\n",
       "      <td>Basketball</td>\n",
       "      <td>1 Color</td>\n",
       "      <td>$15</td>\n",
       "      <td></td>\n",
       "      <td>https://static.nike.com/a/images/t_PDP_1280_v1...</td>\n",
       "      <td>https://www.nike.com/t/jordan-skills-basketbal...</td>\n",
       "    </tr>\n",
       "    <tr>\n",
       "      <th>3</th>\n",
       "      <td>Premier League Academy</td>\n",
       "      <td>Soccer Ball</td>\n",
       "      <td>1 Color</td>\n",
       "      <td>$37</td>\n",
       "      <td></td>\n",
       "      <td>https://static.nike.com/a/images/t_PDP_1280_v1...</td>\n",
       "      <td>https://www.nike.com/t/premier-league-academy-...</td>\n",
       "    </tr>\n",
       "    <tr>\n",
       "      <th>4</th>\n",
       "      <td>Jordan Playground 8P</td>\n",
       "      <td>Basketball</td>\n",
       "      <td>1 Color</td>\n",
       "      <td>$30</td>\n",
       "      <td></td>\n",
       "      <td>https://static.nike.com/a/images/t_PDP_1280_v1...</td>\n",
       "      <td>https://www.nike.com/t/jordan-playground-8p-ba...</td>\n",
       "    </tr>\n",
       "    <tr>\n",
       "      <th>5</th>\n",
       "      <td>Jordan Legacy 8P</td>\n",
       "      <td>Basketball</td>\n",
       "      <td>1 Color</td>\n",
       "      <td>$40</td>\n",
       "      <td></td>\n",
       "      <td>https://static.nike.com/a/images/t_PDP_1280_v1...</td>\n",
       "      <td>https://www.nike.com/t/jordan-legacy-8p-basket...</td>\n",
       "    </tr>\n",
       "    <tr>\n",
       "      <th>6</th>\n",
       "      <td>Nike Elite All-Court 8P</td>\n",
       "      <td>Basketball</td>\n",
       "      <td>1 Color</td>\n",
       "      <td>$35</td>\n",
       "      <td></td>\n",
       "      <td>https://static.nike.com/a/images/t_PDP_1280_v1...</td>\n",
       "      <td>https://www.nike.com/t/elite-all-court-8p-bask...</td>\n",
       "    </tr>\n",
       "    <tr>\n",
       "      <th>7</th>\n",
       "      <td>Nike Academy</td>\n",
       "      <td>Soccer Ball</td>\n",
       "      <td>2 Colors</td>\n",
       "      <td>$27.97</td>\n",
       "      <td>$32</td>\n",
       "      <td>https://static.nike.com/a/images/t_PDP_1280_v1...</td>\n",
       "      <td>https://www.nike.com/t/academy-soccer-ball-vCR...</td>\n",
       "    </tr>\n",
       "    <tr>\n",
       "      <th>8</th>\n",
       "      <td>Nike Elite Tournament</td>\n",
       "      <td>Basketball (Size 6 and 7)</td>\n",
       "      <td>1 Color</td>\n",
       "      <td>$55</td>\n",
       "      <td></td>\n",
       "      <td>https://static.nike.com/a/images/t_PDP_1280_v1...</td>\n",
       "      <td>https://www.nike.com/t/elite-tournament-basket...</td>\n",
       "    </tr>\n",
       "    <tr>\n",
       "      <th>9</th>\n",
       "      <td>Premier League Flight</td>\n",
       "      <td>Soccer Ball</td>\n",
       "      <td>1 Color</td>\n",
       "      <td>$167</td>\n",
       "      <td></td>\n",
       "      <td>https://static.nike.com/a/images/t_PDP_1280_v1...</td>\n",
       "      <td>https://www.nike.com/t/premier-league-flight-s...</td>\n",
       "    </tr>\n",
       "    <tr>\n",
       "      <th>10</th>\n",
       "      <td>NWSL Academy</td>\n",
       "      <td>Soccer Ball</td>\n",
       "      <td>1 Color</td>\n",
       "      <td>$27.97</td>\n",
       "      <td>$37</td>\n",
       "      <td>https://static.nike.com/a/images/t_PDP_1280_v1...</td>\n",
       "      <td>https://www.nike.com/t/nwsl-academy-soccer-bal...</td>\n",
       "    </tr>\n",
       "    <tr>\n",
       "      <th>11</th>\n",
       "      <td>Brazil Academy</td>\n",
       "      <td>Soccer Ball</td>\n",
       "      <td>1 Color</td>\n",
       "      <td>$30</td>\n",
       "      <td></td>\n",
       "      <td>https://static.nike.com/a/images/t_PDP_1280_v1...</td>\n",
       "      <td>https://www.nike.com/t/brazil-academy-soccer-b...</td>\n",
       "    </tr>\n",
       "    <tr>\n",
       "      <th>12</th>\n",
       "      <td>LeBron Playground 8P</td>\n",
       "      <td>Basketball</td>\n",
       "      <td>1 Color</td>\n",
       "      <td>$25.97</td>\n",
       "      <td>$30</td>\n",
       "      <td>https://static.nike.com/a/images/t_PDP_1280_v1...</td>\n",
       "      <td>https://www.nike.com/t/lebron-playground-8p-ba...</td>\n",
       "    </tr>\n",
       "    <tr>\n",
       "      <th>13</th>\n",
       "      <td>Nike Everyday Playground 8P</td>\n",
       "      <td>Graphic Basketball</td>\n",
       "      <td>1 Color</td>\n",
       "      <td>$22.97</td>\n",
       "      <td>$25</td>\n",
       "      <td>https://static.nike.com/a/images/t_PDP_1280_v1...</td>\n",
       "      <td>https://www.nike.com/t/everyday-playground-8p-...</td>\n",
       "    </tr>\n",
       "    <tr>\n",
       "      <th>14</th>\n",
       "      <td>Nike Club Elite Team</td>\n",
       "      <td>Soccer Ball</td>\n",
       "      <td>1 Color</td>\n",
       "      <td>$62</td>\n",
       "      <td></td>\n",
       "      <td>https://static.nike.com/a/images/t_PDP_1280_v1...</td>\n",
       "      <td>https://www.nike.com/t/club-elite-team-soccer-...</td>\n",
       "    </tr>\n",
       "    <tr>\n",
       "      <th>15</th>\n",
       "      <td>Nike Skills</td>\n",
       "      <td>Soccer Ball</td>\n",
       "      <td>1 Color</td>\n",
       "      <td>$15.97</td>\n",
       "      <td>$20</td>\n",
       "      <td>https://static.nike.com/a/images/t_PDP_1280_v1...</td>\n",
       "      <td>https://www.nike.com/t/skills-soccer-ball-sv5f...</td>\n",
       "    </tr>\n",
       "    <tr>\n",
       "      <th>16</th>\n",
       "      <td>Nike All-Court</td>\n",
       "      <td>Volleyball</td>\n",
       "      <td>1 Color</td>\n",
       "      <td>$25.97</td>\n",
       "      <td>$30</td>\n",
       "      <td>https://static.nike.com/a/images/t_PDP_1280_v1...</td>\n",
       "      <td>https://www.nike.com/t/all-court-volleyball-L1...</td>\n",
       "    </tr>\n",
       "    <tr>\n",
       "      <th>17</th>\n",
       "      <td>Paris Saint-Germain Strike</td>\n",
       "      <td>Soccer Ball</td>\n",
       "      <td>1 Color</td>\n",
       "      <td>$30</td>\n",
       "      <td></td>\n",
       "      <td>https://static.nike.com/a/images/t_PDP_1280_v1...</td>\n",
       "      <td>https://www.nike.com/t/paris-saint-germain-str...</td>\n",
       "    </tr>\n",
       "    <tr>\n",
       "      <th>18</th>\n",
       "      <td>Oklahoma</td>\n",
       "      <td>Nike College Mini Football</td>\n",
       "      <td>2 Colors</td>\n",
       "      <td>$18</td>\n",
       "      <td></td>\n",
       "      <td>https://static.nike.com/a/images/t_PDP_1280_v1...</td>\n",
       "      <td>https://www.nike.com/t/oklahomamini-football-j...</td>\n",
       "    </tr>\n",
       "    <tr>\n",
       "      <th>19</th>\n",
       "      <td>Nike Elite Championship 8P`</td>\n",
       "      <td>Basketball</td>\n",
       "      <td>1 Color</td>\n",
       "      <td>$75</td>\n",
       "      <td></td>\n",
       "      <td>https://static.nike.com/a/images/t_PDP_1280_v1...</td>\n",
       "      <td>https://www.nike.com/t/elite-championship-8p-b...</td>\n",
       "    </tr>\n",
       "    <tr>\n",
       "      <th>20</th>\n",
       "      <td>Liverpool FC Strike</td>\n",
       "      <td>Soccer Ball</td>\n",
       "      <td>1 Color</td>\n",
       "      <td>$32</td>\n",
       "      <td></td>\n",
       "      <td>https://static.nike.com/a/images/t_PDP_1280_v1...</td>\n",
       "      <td>https://www.nike.com/t/liverpool-fc-strike-soc...</td>\n",
       "    </tr>\n",
       "    <tr>\n",
       "      <th>21</th>\n",
       "      <td>Nike Skills</td>\n",
       "      <td>Volleyball</td>\n",
       "      <td>1 Color</td>\n",
       "      <td>$15</td>\n",
       "      <td></td>\n",
       "      <td>https://static.nike.com/a/images/t_PDP_1280_v1...</td>\n",
       "      <td>https://www.nike.com/t/skills-volleyball-xW7qr...</td>\n",
       "    </tr>\n",
       "    <tr>\n",
       "      <th>22</th>\n",
       "      <td>Nike Skills</td>\n",
       "      <td>Soccer Ball</td>\n",
       "      <td>1 Color</td>\n",
       "      <td>$14.97</td>\n",
       "      <td>$16</td>\n",
       "      <td>https://static.nike.com/a/images/t_PDP_1280_v1...</td>\n",
       "      <td>https://www.nike.com/t/skills-soccer-ball-vZJP...</td>\n",
       "    </tr>\n",
       "    <tr>\n",
       "      <th>23</th>\n",
       "      <td>Jordan Diamond Outdoor 8P</td>\n",
       "      <td>Basketball</td>\n",
       "      <td>1 Color</td>\n",
       "      <td>$50</td>\n",
       "      <td></td>\n",
       "      <td>https://static.nike.com/a/images/t_PDP_1280_v1...</td>\n",
       "      <td>https://www.nike.com/t/jordan-diamond-outdoor-...</td>\n",
       "    </tr>\n",
       "  </tbody>\n",
       "</table>\n",
       "</div>"
      ],
      "text/plain": [
       "                           Name                 Description Available In  \\\n",
       "0                   Nike Skills            Kids' Basketball      1 Color   \n",
       "1        Premier League Academy                 Soccer Ball     3 Colors   \n",
       "2                 Jordan Skills                  Basketball      1 Color   \n",
       "3        Premier League Academy                 Soccer Ball      1 Color   \n",
       "4          Jordan Playground 8P                  Basketball      1 Color   \n",
       "5              Jordan Legacy 8P                  Basketball      1 Color   \n",
       "6       Nike Elite All-Court 8P                  Basketball      1 Color   \n",
       "7                  Nike Academy                 Soccer Ball     2 Colors   \n",
       "8         Nike Elite Tournament   Basketball (Size 6 and 7)      1 Color   \n",
       "9         Premier League Flight                 Soccer Ball      1 Color   \n",
       "10                 NWSL Academy                 Soccer Ball      1 Color   \n",
       "11               Brazil Academy                 Soccer Ball      1 Color   \n",
       "12         LeBron Playground 8P                  Basketball      1 Color   \n",
       "13  Nike Everyday Playground 8P          Graphic Basketball      1 Color   \n",
       "14         Nike Club Elite Team                 Soccer Ball      1 Color   \n",
       "15                  Nike Skills                 Soccer Ball      1 Color   \n",
       "16               Nike All-Court                  Volleyball      1 Color   \n",
       "17   Paris Saint-Germain Strike                 Soccer Ball      1 Color   \n",
       "18                     Oklahoma  Nike College Mini Football     2 Colors   \n",
       "19  Nike Elite Championship 8P`                  Basketball      1 Color   \n",
       "20          Liverpool FC Strike                 Soccer Ball      1 Color   \n",
       "21                  Nike Skills                  Volleyball      1 Color   \n",
       "22                  Nike Skills                 Soccer Ball      1 Color   \n",
       "23    Jordan Diamond Outdoor 8P                  Basketball      1 Color   \n",
       "\n",
       "     Price Old Price                                         Image Link  \\\n",
       "0      $15            https://static.nike.com/a/images/t_PDP_1280_v1...   \n",
       "1   $27.97       $37  https://static.nike.com/a/images/t_PDP_1280_v1...   \n",
       "2      $15            https://static.nike.com/a/images/t_PDP_1280_v1...   \n",
       "3      $37            https://static.nike.com/a/images/t_PDP_1280_v1...   \n",
       "4      $30            https://static.nike.com/a/images/t_PDP_1280_v1...   \n",
       "5      $40            https://static.nike.com/a/images/t_PDP_1280_v1...   \n",
       "6      $35            https://static.nike.com/a/images/t_PDP_1280_v1...   \n",
       "7   $27.97       $32  https://static.nike.com/a/images/t_PDP_1280_v1...   \n",
       "8      $55            https://static.nike.com/a/images/t_PDP_1280_v1...   \n",
       "9     $167            https://static.nike.com/a/images/t_PDP_1280_v1...   \n",
       "10  $27.97       $37  https://static.nike.com/a/images/t_PDP_1280_v1...   \n",
       "11     $30            https://static.nike.com/a/images/t_PDP_1280_v1...   \n",
       "12  $25.97       $30  https://static.nike.com/a/images/t_PDP_1280_v1...   \n",
       "13  $22.97       $25  https://static.nike.com/a/images/t_PDP_1280_v1...   \n",
       "14     $62            https://static.nike.com/a/images/t_PDP_1280_v1...   \n",
       "15  $15.97       $20  https://static.nike.com/a/images/t_PDP_1280_v1...   \n",
       "16  $25.97       $30  https://static.nike.com/a/images/t_PDP_1280_v1...   \n",
       "17     $30            https://static.nike.com/a/images/t_PDP_1280_v1...   \n",
       "18     $18            https://static.nike.com/a/images/t_PDP_1280_v1...   \n",
       "19     $75            https://static.nike.com/a/images/t_PDP_1280_v1...   \n",
       "20     $32            https://static.nike.com/a/images/t_PDP_1280_v1...   \n",
       "21     $15            https://static.nike.com/a/images/t_PDP_1280_v1...   \n",
       "22  $14.97       $16  https://static.nike.com/a/images/t_PDP_1280_v1...   \n",
       "23     $50            https://static.nike.com/a/images/t_PDP_1280_v1...   \n",
       "\n",
       "                                                  URL  \n",
       "0   https://www.nike.com/t/skills-kids-basketball-...  \n",
       "1   https://www.nike.com/t/premier-league-academy-...  \n",
       "2   https://www.nike.com/t/jordan-skills-basketbal...  \n",
       "3   https://www.nike.com/t/premier-league-academy-...  \n",
       "4   https://www.nike.com/t/jordan-playground-8p-ba...  \n",
       "5   https://www.nike.com/t/jordan-legacy-8p-basket...  \n",
       "6   https://www.nike.com/t/elite-all-court-8p-bask...  \n",
       "7   https://www.nike.com/t/academy-soccer-ball-vCR...  \n",
       "8   https://www.nike.com/t/elite-tournament-basket...  \n",
       "9   https://www.nike.com/t/premier-league-flight-s...  \n",
       "10  https://www.nike.com/t/nwsl-academy-soccer-bal...  \n",
       "11  https://www.nike.com/t/brazil-academy-soccer-b...  \n",
       "12  https://www.nike.com/t/lebron-playground-8p-ba...  \n",
       "13  https://www.nike.com/t/everyday-playground-8p-...  \n",
       "14  https://www.nike.com/t/club-elite-team-soccer-...  \n",
       "15  https://www.nike.com/t/skills-soccer-ball-sv5f...  \n",
       "16  https://www.nike.com/t/all-court-volleyball-L1...  \n",
       "17  https://www.nike.com/t/paris-saint-germain-str...  \n",
       "18  https://www.nike.com/t/oklahomamini-football-j...  \n",
       "19  https://www.nike.com/t/elite-championship-8p-b...  \n",
       "20  https://www.nike.com/t/liverpool-fc-strike-soc...  \n",
       "21  https://www.nike.com/t/skills-volleyball-xW7qr...  \n",
       "22  https://www.nike.com/t/skills-soccer-ball-vZJP...  \n",
       "23  https://www.nike.com/t/jordan-diamond-outdoor-...  "
      ]
     },
     "execution_count": 14,
     "metadata": {},
     "output_type": "execute_result"
    }
   ],
   "source": [
    "search('ball')\n"
   ]
  },
  {
   "cell_type": "markdown",
   "id": "defff3f3",
   "metadata": {},
   "source": [
    "# PROCESS AND EXPLANATIONS\n"
   ]
  },
  {
   "cell_type": "code",
   "execution_count": 16,
   "id": "e182f1ba",
   "metadata": {},
   "outputs": [],
   "source": [
    "# Import libraries\n",
    "from selenium import webdriver\n",
    "import bs4\n",
    "import csv\n",
    "import requests"
   ]
  },
  {
   "cell_type": "code",
   "execution_count": 17,
   "id": "63538a89",
   "metadata": {},
   "outputs": [],
   "source": [
    "# activate driver\n",
    "driver = webdriver.Chrome()"
   ]
  },
  {
   "cell_type": "code",
   "execution_count": 18,
   "id": "9ba388e3",
   "metadata": {},
   "outputs": [],
   "source": [
    "def my_url(keyyword):\n",
    "    keyword = keyyword.replace(' ', '%20')\n",
    "    url = 'https://www.nike.com/w?q={}'.format(keyword)\n",
    "    return url"
   ]
  },
  {
   "cell_type": "code",
   "execution_count": 19,
   "id": "84766672",
   "metadata": {},
   "outputs": [
    {
     "data": {
      "text/plain": [
       "'https://www.nike.com/w?q=blue%20shirt'"
      ]
     },
     "execution_count": 19,
     "metadata": {},
     "output_type": "execute_result"
    }
   ],
   "source": [
    "url = my_url('blue shirt')\n",
    "url"
   ]
  },
  {
   "cell_type": "code",
   "execution_count": 20,
   "id": "2dde3f0f",
   "metadata": {},
   "outputs": [],
   "source": [
    "response = requests.get(url)\n"
   ]
  },
  {
   "cell_type": "code",
   "execution_count": 21,
   "id": "2f198367",
   "metadata": {},
   "outputs": [],
   "source": [
    "soup = bs4.BeautifulSoup(response.text, 'html.parser')\n"
   ]
  },
  {
   "cell_type": "code",
   "execution_count": 22,
   "id": "abdc0647",
   "metadata": {},
   "outputs": [
    {
     "data": {
      "text/plain": [
       "24"
      ]
     },
     "execution_count": 22,
     "metadata": {},
     "output_type": "execute_result"
    }
   ],
   "source": [
    "soup_results = soup.findAll('div', class_ = 'product-card__body')\n",
    "len(soup_results)"
   ]
  },
  {
   "cell_type": "markdown",
   "id": "9a8a5aa9",
   "metadata": {},
   "source": [
    "# Getting the Name and Description\n"
   ]
  },
  {
   "cell_type": "code",
   "execution_count": 23,
   "id": "d341482b",
   "metadata": {},
   "outputs": [
    {
     "data": {
      "text/plain": [
       "'Nike Dri-FIT'"
      ]
     },
     "execution_count": 23,
     "metadata": {},
     "output_type": "execute_result"
    }
   ],
   "source": [
    "obj = soup_results[13]\n",
    "name = obj.find('div', 'product-card__title').text.strip()\n",
    "name"
   ]
  },
  {
   "cell_type": "code",
   "execution_count": 24,
   "id": "fabb98a8",
   "metadata": {},
   "outputs": [
    {
     "data": {
      "text/plain": [
       "\"Big Kids' T-Shirt\""
      ]
     },
     "execution_count": 24,
     "metadata": {},
     "output_type": "execute_result"
    }
   ],
   "source": [
    "description = obj.find('div', 'product-card__subtitle').text.strip()\n",
    "description"
   ]
  },
  {
   "cell_type": "markdown",
   "id": "cc93998e",
   "metadata": {},
   "source": [
    "# Getting the number of Color\n"
   ]
  },
  {
   "cell_type": "code",
   "execution_count": 26,
   "id": "e0a5b807",
   "metadata": {},
   "outputs": [
    {
     "data": {
      "text/plain": [
       "'1 Color'"
      ]
     },
     "execution_count": 26,
     "metadata": {},
     "output_type": "execute_result"
    }
   ],
   "source": [
    "color = obj.find('div','product-card__count-item').text\n",
    "color"
   ]
  },
  {
   "cell_type": "markdown",
   "id": "88e368b0",
   "metadata": {},
   "source": [
    "# Getting the Price\n"
   ]
  },
  {
   "cell_type": "code",
   "execution_count": 27,
   "id": "ce1bff94",
   "metadata": {},
   "outputs": [
    {
     "data": {
      "text/plain": [
       "'$21.97'"
      ]
     },
     "execution_count": 27,
     "metadata": {},
     "output_type": "execute_result"
    }
   ],
   "source": [
    "try:\n",
    "    price = obj.find('div', 'product-price us__styling is--current-price css-11s12ax').text\n",
    "except AttributeError:\n",
    "    price = obj.find('div','product-price is--current-price css-1ydfahe').text\n",
    "price\n"
   ]
  },
  {
   "cell_type": "markdown",
   "id": "0e4d963c",
   "metadata": {},
   "source": [
    "# Getting prices with Discount\n"
   ]
  },
  {
   "cell_type": "code",
   "execution_count": 28,
   "id": "8b2d4f01",
   "metadata": {},
   "outputs": [
    {
     "data": {
      "text/plain": [
       "'$28'"
      ]
     },
     "execution_count": 28,
     "metadata": {},
     "output_type": "execute_result"
    }
   ],
   "source": [
    "try:\n",
    "    old_price = obj.find('div','product-price us__styling is--striked-out css-0').text\n",
    "except AttributeError:\n",
    "    old_price = ''\n",
    "old_price"
   ]
  },
  {
   "cell_type": "markdown",
   "id": "087e7973",
   "metadata": {},
   "source": [
    "# Getting the Urls and Images\n"
   ]
  },
  {
   "cell_type": "code",
   "execution_count": 29,
   "id": "9cdb64b2",
   "metadata": {},
   "outputs": [
    {
     "data": {
      "text/plain": [
       "'https://www.nike.com/t/dri-fit-big-kids-t-shirt-f0q1x5/FD0842-410'"
      ]
     },
     "execution_count": 29,
     "metadata": {},
     "output_type": "execute_result"
    }
   ],
   "source": [
    "url2 = obj.find('a', 'product-card__link-overlay').get('href')\n",
    "url2"
   ]
  },
  {
   "cell_type": "code",
   "execution_count": 30,
   "id": "a99c7fbb",
   "metadata": {},
   "outputs": [],
   "source": [
    "data = requests.get(url2)\n",
    "soup2 = bs4.BeautifulSoup(data.text, 'html.parser')\n",
    "image = soup2.find('img', class_ = 'css-viwop1 u-full-width u-full-height css-m5dkrx').get('src')"
   ]
  },
  {
   "cell_type": "code",
   "execution_count": 31,
   "id": "a5b3de01",
   "metadata": {},
   "outputs": [
    {
     "data": {
      "text/plain": [
       "'https://static.nike.com/a/images/t_PDP_1280_v1/f_auto/d3b01368-0d28-4ca8-a1ea-4153993892fc/dri-fit-big-kids-t-shirt-f0q1x5.png'"
      ]
     },
     "execution_count": 31,
     "metadata": {},
     "output_type": "execute_result"
    }
   ],
   "source": [
    "image"
   ]
  },
  {
   "cell_type": "code",
   "execution_count": 32,
   "id": "4709fa3a",
   "metadata": {},
   "outputs": [],
   "source": [
    "import csv\n"
   ]
  },
  {
   "cell_type": "code",
   "execution_count": 33,
   "id": "d4a5fd77",
   "metadata": {},
   "outputs": [
    {
     "name": "stdout",
     "output_type": "stream",
     "text": [
      "Data written to shoe_data.csv\n"
     ]
    }
   ],
   "source": [
    "# Change this to read data from the web scraped list\n",
    "shoe_data = [{'name': 'Nike Air Force 1 Shadow', 'price': 'MRP : ₹ 8995.00'}]\n",
    "\n",
    "def clean_price(price):\n",
    "    return price.replace('MRP : ₹ ', '').strip()\n",
    "\n",
    "filename = 'shoe_data.csv'\n",
    "\n",
    "with open(filename, 'w', newline='', encoding='utf-8') as csvfile:\n",
    "    writer = csv.writer(csvfile)\n",
    "    for shoe in shoe_data:\n",
    "        writer.writerow([shoe['name'], clean_price(shoe['price'])])\n",
    "\n",
    "print(f\"Data written to {filename}\")"
   ]
  },
  {
   "cell_type": "code",
   "execution_count": null,
   "id": "2c0f185c",
   "metadata": {},
   "outputs": [],
   "source": []
  }
 ],
 "metadata": {
  "kernelspec": {
   "display_name": "Python 3 (ipykernel)",
   "language": "python",
   "name": "python3"
  },
  "language_info": {
   "codemirror_mode": {
    "name": "ipython",
    "version": 3
   },
   "file_extension": ".py",
   "mimetype": "text/x-python",
   "name": "python",
   "nbconvert_exporter": "python",
   "pygments_lexer": "ipython3",
   "version": "3.11.4"
  }
 },
 "nbformat": 4,
 "nbformat_minor": 5
}

{
 "cells": [
  {
   "cell_type": "code",
   "execution_count": 1,
   "id": "2b3567d3",
   "metadata": {},
   "outputs": [
    {
     "name": "stdout",
     "output_type": "stream",
     "text": [
      "Requirement already satisfied: bs4 in c:\\users\\manisha singh\\onedrive\\documents\\python scripts\\lib\\site-packages (0.0.1)\n",
      "Requirement already satisfied: beautifulsoup4 in c:\\users\\manisha singh\\onedrive\\documents\\python scripts\\lib\\site-packages (from bs4) (4.12.2)\n",
      "Requirement already satisfied: soupsieve>1.2 in c:\\users\\manisha singh\\onedrive\\documents\\python scripts\\lib\\site-packages (from beautifulsoup4->bs4) (2.4)\n",
      "Requirement already satisfied: requests in c:\\users\\manisha singh\\onedrive\\documents\\python scripts\\lib\\site-packages (2.31.0)\n",
      "Requirement already satisfied: charset-normalizer<4,>=2 in c:\\users\\manisha singh\\onedrive\\documents\\python scripts\\lib\\site-packages (from requests) (2.0.4)\n",
      "Requirement already satisfied: idna<4,>=2.5 in c:\\users\\manisha singh\\onedrive\\documents\\python scripts\\lib\\site-packages (from requests) (3.4)\n",
      "Requirement already satisfied: urllib3<3,>=1.21.1 in c:\\users\\manisha singh\\onedrive\\documents\\python scripts\\lib\\site-packages (from requests) (1.26.16)\n",
      "Requirement already satisfied: certifi>=2017.4.17 in c:\\users\\manisha singh\\onedrive\\documents\\python scripts\\lib\\site-packages (from requests) (2023.7.22)\n"
     ]
    }
   ],
   "source": [
    "!pip install bs4\n",
    "!pip install requests"
   ]
  },
  {
   "cell_type": "code",
   "execution_count": 2,
   "id": "007420d2",
   "metadata": {},
   "outputs": [],
   "source": [
    "import requests\n",
    "from bs4 import BeautifulSoup\n",
    "import pandas as pd"
   ]
  },
  {
   "cell_type": "code",
   "execution_count": 3,
   "id": "2db83b1f",
   "metadata": {},
   "outputs": [],
   "source": [
    "headers = {'User-Agent': 'Mozilla/5.0 (Windows NT 10.0; Win64; x64) AppleWebKit/537.36 (KHTML, like Gecko) Chrome/58.0.3029.110 Safari/537.3'}\n",
    "\n",
    "\n",
    "Webpage = requests.get('https://www.adidas.co.in/men-shoes', headers=headers).text"
   ]
  },
  {
   "cell_type": "code",
   "execution_count": 4,
   "id": "11872016",
   "metadata": {},
   "outputs": [],
   "source": [
    "Soup = BeautifulSoup (Webpage,'lxml')"
   ]
  },
  {
   "cell_type": "code",
   "execution_count": 5,
   "id": "29e773b3",
   "metadata": {},
   "outputs": [
    {
     "name": "stdout",
     "output_type": "stream",
     "text": [
      "<!DOCTYPE html>\n",
      "<html lang=\"en\">\n",
      " <head>\n",
      "  <meta charset=\"utf-8\"/>\n",
      "  <meta content=\"width=device-width, initial-scale = 1.0, maximum-scale=1.0, user-scalable=no\" name=\"viewport\"/>\n",
      "  <title>\n",
      "   adidas\n",
      "  </title>\n",
      "  <link href=\"/WAFfailoverassets/style.css\" rel=\"stylesheet\"/>\n",
      " </head>\n",
      " <body>\n",
      "  <main class=\"content-wrapper\">\n",
      "   <header class=\"top\">\n",
      "    <div class=\"logo\">\n",
      "     adidas\n",
      "    </div>\n",
      "    <span id=\"ctl00_mainContentPlaceHolder_lblInvalidRequest\">\n",
      "     <br/>\n",
      "     Reference Error: 18.a65d3a17.1703093249.25139adf\n",
      "    </span>\n",
      "    <h1 class=\"title\">\n",
      "     Unfortunately we are unable to give you access to our site at this time.\n",
      "    </h1>\n",
      "    <p>\n",
      "     A security issue was automatically identified, when you tried to access the website.\n",
      "    </p>\n",
      "   </header>\n",
      "   <div class=\"columns\">\n",
      "    <section class=\"column column-1\">\n",
      "     <h3>\n",
      "      What could have caused this?\n",
      "     </h3>\n",
      "     <p>\n",
      "      During high-traffic product releases we have extra security in place to prevent bots entering our site. We do this to protect customers and to give everyone a fair chance of getting the sneakers. Something in your setup must have triggered our security system, so we cannot allow you onto the site.\n",
      "     </p>\n",
      "    </section>\n",
      "    <section class=\"column column-2\">\n",
      "     <h3>\n",
      "      How can I resolve this?\n",
      "     </h3>\n",
      "     <p>\n",
      "      Please try refreshing or accessing our website from a different browser or another device. You could also check if there are any scripts, like ad blockers, running in your browser and disable them.\n",
      "     </p>\n",
      "     <p>\n",
      "      If this does not help, the issue might be caused by malware. If you're on a personal connection you can run an anti-virus scan on your device to make sure it's not affected by malware. If you're on a shared network, you could ask the system administrator to run a scan looking for misconfigured or infected devices across the network.\n",
      "     </p>\n",
      "    </section>\n",
      "   </div>\n",
      "   <small class=\"error\">\n",
      "    HTTP 403 - Forbidden\n",
      "   </small>\n",
      "  </main>\n",
      " </body>\n",
      "</html>\n",
      "\n"
     ]
    }
   ],
   "source": [
    "print (Soup.prettify())"
   ]
  },
  {
   "cell_type": "code",
   "execution_count": 6,
   "id": "74718986",
   "metadata": {},
   "outputs": [
    {
     "data": {
      "text/plain": [
       "[<h1 class=\"title\">Unfortunately we are unable to give you access to our site at this time. </h1>]"
      ]
     },
     "execution_count": 6,
     "metadata": {},
     "output_type": "execute_result"
    }
   ],
   "source": [
    "Soup.find_all('h1')"
   ]
  },
  {
   "cell_type": "code",
   "execution_count": 7,
   "id": "98d81590",
   "metadata": {},
   "outputs": [
    {
     "data": {
      "text/plain": [
       "'Unfortunately we are unable to give you access to our site at this time. '"
      ]
     },
     "execution_count": 7,
     "metadata": {},
     "output_type": "execute_result"
    }
   ],
   "source": [
    "Soup.find_all('h1')[0].text"
   ]
  },
  {
   "cell_type": "code",
   "execution_count": 8,
   "id": "e5d5e728",
   "metadata": {},
   "outputs": [
    {
     "data": {
      "text/plain": [
       "[<h3>What could have caused this?</h3>, <h3>How can I resolve this?</h3>]"
      ]
     },
     "execution_count": 8,
     "metadata": {},
     "output_type": "execute_result"
    }
   ],
   "source": [
    "Soup.find_all('h3')"
   ]
  },
  {
   "cell_type": "code",
   "execution_count": 9,
   "id": "1b5fa972",
   "metadata": {},
   "outputs": [
    {
     "data": {
      "text/plain": [
       "'What could have caused this?'"
      ]
     },
     "execution_count": 9,
     "metadata": {},
     "output_type": "execute_result"
    }
   ],
   "source": [
    "Soup.find_all('h3')[0].text"
   ]
  },
  {
   "cell_type": "code",
   "execution_count": 10,
   "id": "3667d455",
   "metadata": {},
   "outputs": [
    {
     "data": {
      "text/plain": [
       "[<div class=\"logo\">adidas</div>,\n",
       " <div class=\"columns\">\n",
       " <section class=\"column column-1\">\n",
       " <h3>What could have caused this?</h3>\n",
       " <p>During high-traffic product releases we have extra security in place to prevent bots entering our site. We do this to protect customers and to give everyone a fair chance of getting the sneakers. Something in your setup must have triggered our security system, so we cannot allow you onto the site.</p>\n",
       " </section>\n",
       " <section class=\"column column-2\">\n",
       " <h3>How can I resolve this?</h3>\n",
       " <p>Please try refreshing or accessing our website from a different browser or another device. You could also check if there are any scripts, like ad blockers, running in your browser and disable them. </p>\n",
       " <p>If this does not help, the issue might be caused by malware. If you're on a personal connection you can run an anti-virus scan on your device to make sure it's not affected by malware. If you're on a shared network, you could ask the system administrator to run a scan looking for misconfigured or infected devices across the network.</p>\n",
       " </section>\n",
       " </div>]"
      ]
     },
     "execution_count": 10,
     "metadata": {},
     "output_type": "execute_result"
    }
   ],
   "source": [
    "Soup.find_all('div')"
   ]
  },
  {
   "cell_type": "code",
   "execution_count": 11,
   "id": "21540399",
   "metadata": {},
   "outputs": [
    {
     "data": {
      "text/plain": [
       "2"
      ]
     },
     "execution_count": 11,
     "metadata": {},
     "output_type": "execute_result"
    }
   ],
   "source": [
    "len(Soup.find_all('div'))"
   ]
  },
  {
   "cell_type": "code",
   "execution_count": 13,
   "id": "e20c5423",
   "metadata": {},
   "outputs": [
    {
     "ename": "IndexError",
     "evalue": "list index out of range",
     "output_type": "error",
     "traceback": [
      "\u001b[1;31m---------------------------------------------------------------------------\u001b[0m",
      "\u001b[1;31mIndexError\u001b[0m                                Traceback (most recent call last)",
      "Cell \u001b[1;32mIn[13], line 1\u001b[0m\n\u001b[1;32m----> 1\u001b[0m Soup\u001b[38;5;241m.\u001b[39mfind_all(\u001b[38;5;124m'\u001b[39m\u001b[38;5;124mdiv\u001b[39m\u001b[38;5;124m'\u001b[39m)[\u001b[38;5;241m3\u001b[39m]\u001b[38;5;241m.\u001b[39mtext\n",
      "\u001b[1;31mIndexError\u001b[0m: list index out of range"
     ]
    }
   ],
   "source": [
    "Soup.find_all('div')[3].text"
   ]
  },
  {
   "cell_type": "code",
   "execution_count": null,
   "id": "880d344e",
   "metadata": {},
   "outputs": [],
   "source": []
  }
 ],
 "metadata": {
  "kernelspec": {
   "display_name": "Python 3 (ipykernel)",
   "language": "python",
   "name": "python3"
  },
  "language_info": {
   "codemirror_mode": {
    "name": "ipython",
    "version": 3
   },
   "file_extension": ".py",
   "mimetype": "text/x-python",
   "name": "python",
   "nbconvert_exporter": "python",
   "pygments_lexer": "ipython3",
   "version": "3.11.4"
  }
 },
 "nbformat": 4,
 "nbformat_minor": 5
}

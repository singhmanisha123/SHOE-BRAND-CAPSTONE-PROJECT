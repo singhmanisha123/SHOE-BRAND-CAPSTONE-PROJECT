{
 "cells": [
  {
   "cell_type": "code",
   "execution_count": 1,
   "id": "1db57e28",
   "metadata": {},
   "outputs": [
    {
     "name": "stdout",
     "output_type": "stream",
     "text": [
      "Requirement already satisfied: bs4 in c:\\users\\manisha singh\\onedrive\\documents\\python scripts\\lib\\site-packages (0.0.1)\n",
      "Requirement already satisfied: beautifulsoup4 in c:\\users\\manisha singh\\onedrive\\documents\\python scripts\\lib\\site-packages (from bs4) (4.12.2)\n",
      "Requirement already satisfied: soupsieve>1.2 in c:\\users\\manisha singh\\onedrive\\documents\\python scripts\\lib\\site-packages (from beautifulsoup4->bs4) (2.4)\n",
      "Requirement already satisfied: requests in c:\\users\\manisha singh\\onedrive\\documents\\python scripts\\lib\\site-packages (2.31.0)\n",
      "Requirement already satisfied: charset-normalizer<4,>=2 in c:\\users\\manisha singh\\onedrive\\documents\\python scripts\\lib\\site-packages (from requests) (2.0.4)\n",
      "Requirement already satisfied: idna<4,>=2.5 in c:\\users\\manisha singh\\onedrive\\documents\\python scripts\\lib\\site-packages (from requests) (3.4)\n",
      "Requirement already satisfied: urllib3<3,>=1.21.1 in c:\\users\\manisha singh\\onedrive\\documents\\python scripts\\lib\\site-packages (from requests) (1.26.16)\n",
      "Requirement already satisfied: certifi>=2017.4.17 in c:\\users\\manisha singh\\onedrive\\documents\\python scripts\\lib\\site-packages (from requests) (2023.7.22)\n"
     ]
    }
   ],
   "source": [
    "!pip install bs4\n",
    "!pip install requests\n"
   ]
  },
  {
   "cell_type": "code",
   "execution_count": 2,
   "id": "9fb90b5c",
   "metadata": {},
   "outputs": [],
   "source": [
    "import requests\n",
    "from bs4 import BeautifulSoup\n",
    "import pandas as pd"
   ]
  },
  {
   "cell_type": "code",
   "execution_count": 3,
   "id": "f9201e5c",
   "metadata": {},
   "outputs": [],
   "source": [
    "headers = {'User-Agent': 'Mozilla/5.0 (Windows NT 10.0; Win64; x64) AppleWebKit/537.36 (KHTML, like Gecko) Chrome/58.0.3029.110 Safari/537.3'}\n",
    "\n",
    "\n",
    "Webpage = requests.get('https://www.skechers.com/men/shoes/', headers=headers).text"
   ]
  },
  {
   "cell_type": "code",
   "execution_count": 4,
   "id": "3cefd64e",
   "metadata": {},
   "outputs": [],
   "source": [
    "Soup = BeautifulSoup (Webpage,'lxml')"
   ]
  },
  {
   "cell_type": "code",
   "execution_count": 5,
   "id": "f1b370b5",
   "metadata": {},
   "outputs": [
    {
     "name": "stdout",
     "output_type": "stream",
     "text": [
      "<!DOCTYPE html>\n",
      "<html lang=\"en\">\n",
      " <head>\n",
      "  <meta charset=\"utf-8\"/>\n",
      "  <meta content=\"width=device-width, initial-scale=1\" name=\"viewport\"/>\n",
      "  <meta content=\"px-captcha\" name=\"description\"/>\n",
      "  <title>\n",
      "   Access to this page has been denied\n",
      "  </title>\n",
      " </head>\n",
      " <body>\n",
      "  <script>\n",
      "   /* PerimeterX assignments */\n",
      "    window._pxVid = '';\n",
      "    window._pxUuid = '62330213-9f5e-11ee-9754-2d512dd4521a';\n",
      "    window._pxAppId = 'PXdL6GOSf9';\n",
      "    window._pxMobile = false;\n",
      "    window._pxHostUrl = '/dL6GOSf9/xhr';\n",
      "    window._pxCustomLogo = '';\n",
      "    window._pxJsClientSrc = '/dL6GOSf9/init.js';\n",
      "    window._pxFirstPartyEnabled = true;\n",
      "    var pxCaptchaSrc = '/dL6GOSf9/captcha/captcha.js?a=c&u=62330213-9f5e-11ee-9754-2d512dd4521a&v=&m=0';\n",
      "\n",
      "    var script = document.createElement('script');\n",
      "    script.src = pxCaptchaSrc;\n",
      "    script.onerror = function () {\n",
      "        script = document.createElement('script');\n",
      "        script.src = 'https://captcha.px-cloud.net/PXdL6GOSf9/captcha.js?a=c&u=62330213-9f5e-11ee-9754-2d512dd4521a&v=&m=0';\n",
      "        script.onerror = window._pxOnError;\n",
      "        document.head.appendChild(script);\n",
      "    };\n",
      "    window._pxOnError = function () {\n",
      "        var style = document.createElement('style');\n",
      "        style.innerText = '@import url(https://fonts.googleapis.com/css2?family=Roboto:ital,wght@0,100;0,300;0,400;0,500;0,700;0,900;1,100;1,300;1,400;1,500;1,700;1,900&display=swap);body{background-color:#fafbfc}.px-captcha-error-container{position:fixed;height:340px;background-color:#fff;font-family:Roboto,sans-serif}.px-captcha-error-header{color:#f0f1f2;font-size:29px;margin:67px 0 33px;font-weight:500;line-height:.83;text-align:center}.px-captcha-error-message{color:#f0f1f2;font-size:18px;margin:0 0 29px;line-height:1.33;text-align:center}.px-captcha-error-button{text-align:center;line-height:48px;width:253px;margin:auto;border-radius:50px;border:solid 1px #f0f1f2;font-size:20px;color:#f0f1f2}.px-captcha-error-wrapper{margin:18px 0 0}div.px-captcha-error{margin:auto;text-align:center;width:400px;height:30px;font-size:12px;background-color:#fcf0f2;color:#ce0e2d}img.px-captcha-error{margin:6px 8px -2px 0}.px-captcha-error-refid{border-top:solid 1px #f0eeee;height:27px;margin:13px 0 0;border-radius:0 0 3px 3px;background-color:#fafbfc;font-size:10px;line-height:2.5;text-align:center;color:#b1b5b8}@media (min-width:620px){.px-captcha-error-container{width:530px;top:50%;left:50%;margin-top:-170px;margin-left:-265px;border-radius:3px;box-shadow:0 2px 9px -1px rgba(0,0,0,.13)}}@media (min-width:481px) and (max-width:620px){.px-captcha-error-container{width:85%;top:50%;left:50%;margin-top:-170px;margin-left:-42.5%;border-radius:3px;box-shadow:0 2px 9px -1px rgba(0,0,0,.13)}}@media (max-width:480px){body{background-color:#fff}.px-captcha-error-header{color:#f0f1f2;font-size:29px;margin:55px 0 33px}.px-captcha-error-container{width:530px;top:50%;left:50%;margin-top:-170px;margin-left:-265px}.px-captcha-error-refid{position:fixed;width:100%;left:0;bottom:0;border-radius:0;font-size:14px;line-height:2}}@media (max-width:390px){div.px-captcha-error{font-size:10px}.px-captcha-error-refid{font-size:11px;line-height:2.5}}';\n",
      "        document.head.appendChild(style);\n",
      "        var div = document.createElement('div');\n",
      "        div.className = 'px-captcha-error-container';\n",
      "        div.innerHTML = '<div class=\"px-captcha-error-header\">Before we continue...</div><div class=\"px-captcha-error-message\">Press & Hold to confirm you are<br>a human (and not a bot).</div><div class=\"px-captcha-error-button\">Press & Hold</div><div class=\"px-captcha-error-wrapper\"><div class=\"px-captcha-error\"><img class=\"px-captcha-error\" src=\"data:image/png;base64,iVBORw0KGgoAAAANSUhEUgAAABMAAAAQCAMAAADDGrRQAAAABGdBTUEAALGPC/xhBQAAAAFzUkdCAK7OHOkAAABFUExURUdwTNYELOEGONQILd0AONwALtwEL+AAL9MFLfkJSNQGLdMJLdQJLdQGLdQKLtYFLNcELdUGLdcBL9gFL88OLdUFLNEOLglBhT4AAAAXdFJOUwC8CqgNIRgRoAS1dWWuR4RTjzgryZpYblfkcAAAAI9JREFUGNNdj+sWhCAIhAdvqGVa1r7/oy6RZ7eaH3D4ZACBIed9wlOOMtUnSrEmZ6cHa9YAIfsbCkWrdpi/c50Bk2CO9mNLdMAu03wJA3HpEnfpxbyOg6ruyx8JJi6KNstnslp1dbPd9GnqmuYq7mmcv1zjnbQw8cV0xzkqo+fX1zkjUOO7wnrInUTxJiruC3vtBNRoQQn2AAAAAElFTkSuQmCC\">Please check your internet connection' + (window._pxMobile ? '' : ' or disable your ad-blocker') + '.</div></div><div class=\"px-captcha-error-refid\">Reference ID ' + window._pxUuid + '</div>';\n",
      "        document.body.appendChild(div);\n",
      "        if (window._pxMobile) {\n",
      "            setTimeout(function() {\n",
      "                location.href = '/px/captcha_close?status=-1';\n",
      "            }, 5000);\n",
      "        }\n",
      "    };\n",
      "    document.head.appendChild(script);\n",
      "  </script>\n",
      "  <script crossorigin=\"anonymous\" data-cf-beacon='{\"rayId\":\"8389a6a18b2be328\",\"b\":1,\"version\":\"2023.10.0\",\"token\":\"01336904d56945a7b3c22658f2080458\"}' defer=\"\" integrity=\"sha512-euoFGowhlaLqXsPWQ48qSkBSCFs3DPRyiwVu3FjR96cMPx+Fr+gpWRhIafcHwqwCqWS42RZhIudOvEI+Ckf6MA==\" src=\"https://static.cloudflareinsights.com/beacon.min.js/v84a3a4012de94ce1a686ba8c167c359c1696973893317\">\n",
      "  </script>\n",
      " </body>\n",
      "</html>\n",
      "\n"
     ]
    }
   ],
   "source": [
    "print (Soup.prettify())"
   ]
  },
  {
   "cell_type": "code",
   "execution_count": 6,
   "id": "b288d931",
   "metadata": {},
   "outputs": [],
   "source": [
    "url = \"https://www.skechers.com/men/shoes/\""
   ]
  },
  {
   "cell_type": "code",
   "execution_count": 7,
   "id": "618d1baa",
   "metadata": {},
   "outputs": [],
   "source": [
    "r = requests.get(url)\n"
   ]
  },
  {
   "cell_type": "code",
   "execution_count": 8,
   "id": "32ca0321",
   "metadata": {},
   "outputs": [
    {
     "name": "stdout",
     "output_type": "stream",
     "text": [
      "<!DOCTYPE html>\n",
      "<html lang=\"en\">\n",
      "<head>\n",
      "<meta charset=\"utf-8\"/>\n",
      "<meta content=\"width=device-width, initial-scale=1\" name=\"viewport\"/>\n",
      "<meta content=\"px-captcha\" name=\"description\"/>\n",
      "<title>Access to this page has been denied</title>\n",
      "</head>\n",
      "<body>\n",
      "<script>\n",
      "    /* PerimeterX assignments */\n",
      "    window._pxVid = '';\n",
      "    window._pxUuid = '88518781-9f5e-11ee-a130-e7d0f0e4e199';\n",
      "    window._pxAppId = 'PXdL6GOSf9';\n",
      "    window._pxMobile = false;\n",
      "    window._pxHostUrl = '/dL6GOSf9/xhr';\n",
      "    window._pxCustomLogo = '';\n",
      "    window._pxJsClientSrc = '/dL6GOSf9/init.js';\n",
      "    window._pxFirstPartyEnabled = true;\n",
      "    var pxCaptchaSrc = '/dL6GOSf9/captcha/captcha.js?a=c&u=88518781-9f5e-11ee-a130-e7d0f0e4e199&v=&m=0';\n",
      "\n",
      "    var script = document.createElement('script');\n",
      "    script.src = pxCaptchaSrc;\n",
      "    script.onerror = function () {\n",
      "        script = document.createElement('script');\n",
      "        script.src = 'https://captcha.px-cloud.net/PXdL6GOSf9/captcha.js?a=c&u=88518781-9f5e-11ee-a130-e7d0f0e4e199&v=&m=0';\n",
      "        script.onerror = window._pxOnError;\n",
      "        document.head.appendChild(script);\n",
      "    };\n",
      "    window._pxOnError = function () {\n",
      "        var style = document.createElement('style');\n",
      "        style.innerText = '@import url(https://fonts.googleapis.com/css2?family=Roboto:ital,wght@0,100;0,300;0,400;0,500;0,700;0,900;1,100;1,300;1,400;1,500;1,700;1,900&display=swap);body{background-color:#fafbfc}.px-captcha-error-container{position:fixed;height:340px;background-color:#fff;font-family:Roboto,sans-serif}.px-captcha-error-header{color:#f0f1f2;font-size:29px;margin:67px 0 33px;font-weight:500;line-height:.83;text-align:center}.px-captcha-error-message{color:#f0f1f2;font-size:18px;margin:0 0 29px;line-height:1.33;text-align:center}.px-captcha-error-button{text-align:center;line-height:48px;width:253px;margin:auto;border-radius:50px;border:solid 1px #f0f1f2;font-size:20px;color:#f0f1f2}.px-captcha-error-wrapper{margin:18px 0 0}div.px-captcha-error{margin:auto;text-align:center;width:400px;height:30px;font-size:12px;background-color:#fcf0f2;color:#ce0e2d}img.px-captcha-error{margin:6px 8px -2px 0}.px-captcha-error-refid{border-top:solid 1px #f0eeee;height:27px;margin:13px 0 0;border-radius:0 0 3px 3px;background-color:#fafbfc;font-size:10px;line-height:2.5;text-align:center;color:#b1b5b8}@media (min-width:620px){.px-captcha-error-container{width:530px;top:50%;left:50%;margin-top:-170px;margin-left:-265px;border-radius:3px;box-shadow:0 2px 9px -1px rgba(0,0,0,.13)}}@media (min-width:481px) and (max-width:620px){.px-captcha-error-container{width:85%;top:50%;left:50%;margin-top:-170px;margin-left:-42.5%;border-radius:3px;box-shadow:0 2px 9px -1px rgba(0,0,0,.13)}}@media (max-width:480px){body{background-color:#fff}.px-captcha-error-header{color:#f0f1f2;font-size:29px;margin:55px 0 33px}.px-captcha-error-container{width:530px;top:50%;left:50%;margin-top:-170px;margin-left:-265px}.px-captcha-error-refid{position:fixed;width:100%;left:0;bottom:0;border-radius:0;font-size:14px;line-height:2}}@media (max-width:390px){div.px-captcha-error{font-size:10px}.px-captcha-error-refid{font-size:11px;line-height:2.5}}';\n",
      "        document.head.appendChild(style);\n",
      "        var div = document.createElement('div');\n",
      "        div.className = 'px-captcha-error-container';\n",
      "        div.innerHTML = '<div class=\"px-captcha-error-header\">Before we continue...</div><div class=\"px-captcha-error-message\">Press & Hold to confirm you are<br>a human (and not a bot).</div><div class=\"px-captcha-error-button\">Press & Hold</div><div class=\"px-captcha-error-wrapper\"><div class=\"px-captcha-error\"><img class=\"px-captcha-error\" src=\"data:image/png;base64,iVBORw0KGgoAAAANSUhEUgAAABMAAAAQCAMAAADDGrRQAAAABGdBTUEAALGPC/xhBQAAAAFzUkdCAK7OHOkAAABFUExURUdwTNYELOEGONQILd0AONwALtwEL+AAL9MFLfkJSNQGLdMJLdQJLdQGLdQKLtYFLNcELdUGLdcBL9gFL88OLdUFLNEOLglBhT4AAAAXdFJOUwC8CqgNIRgRoAS1dWWuR4RTjzgryZpYblfkcAAAAI9JREFUGNNdj+sWhCAIhAdvqGVa1r7/oy6RZ7eaH3D4ZACBIed9wlOOMtUnSrEmZ6cHa9YAIfsbCkWrdpi/c50Bk2CO9mNLdMAu03wJA3HpEnfpxbyOg6ruyx8JJi6KNstnslp1dbPd9GnqmuYq7mmcv1zjnbQw8cV0xzkqo+fX1zkjUOO7wnrInUTxJiruC3vtBNRoQQn2AAAAAElFTkSuQmCC\">Please check your internet connection' + (window._pxMobile ? '' : ' or disable your ad-blocker') + '.</div></div><div class=\"px-captcha-error-refid\">Reference ID ' + window._pxUuid + '</div>';\n",
      "        document.body.appendChild(div);\n",
      "        if (window._pxMobile) {\n",
      "            setTimeout(function() {\n",
      "                location.href = '/px/captcha_close?status=-1';\n",
      "            }, 5000);\n",
      "        }\n",
      "    };\n",
      "    document.head.appendChild(script);\n",
      "</script>\n",
      "<script crossorigin=\"anonymous\" data-cf-beacon='{\"rayId\":\"8389a83158cd963e\",\"b\":1,\"version\":\"2023.10.0\",\"token\":\"01336904d56945a7b3c22658f2080458\"}' defer=\"\" integrity=\"sha512-euoFGowhlaLqXsPWQ48qSkBSCFs3DPRyiwVu3FjR96cMPx+Fr+gpWRhIafcHwqwCqWS42RZhIudOvEI+Ckf6MA==\" src=\"https://static.cloudflareinsights.com/beacon.min.js/v84a3a4012de94ce1a686ba8c167c359c1696973893317\"></script>\n",
      "</body>\n",
      "</html>\n",
      "\n"
     ]
    }
   ],
   "source": [
    "# print(r.text)\n",
    "\n",
    "soup = BeautifulSoup(r.text,\"lxml\")\n",
    "\n",
    "print(soup)"
   ]
  },
  {
   "cell_type": "code",
   "execution_count": 12,
   "id": "b9e8dac2",
   "metadata": {},
   "outputs": [
    {
     "data": {
      "text/plain": [
       "[]"
      ]
     },
     "execution_count": 12,
     "metadata": {},
     "output_type": "execute_result"
    }
   ],
   "source": [
    "Soup.find_all('a')"
   ]
  },
  {
   "cell_type": "code",
   "execution_count": null,
   "id": "393a77e4",
   "metadata": {},
   "outputs": [],
   "source": []
  }
 ],
 "metadata": {
  "kernelspec": {
   "display_name": "Python 3 (ipykernel)",
   "language": "python",
   "name": "python3"
  },
  "language_info": {
   "codemirror_mode": {
    "name": "ipython",
    "version": 3
   },
   "file_extension": ".py",
   "mimetype": "text/x-python",
   "name": "python",
   "nbconvert_exporter": "python",
   "pygments_lexer": "ipython3",
   "version": "3.11.4"
  }
 },
 "nbformat": 4,
 "nbformat_minor": 5
}

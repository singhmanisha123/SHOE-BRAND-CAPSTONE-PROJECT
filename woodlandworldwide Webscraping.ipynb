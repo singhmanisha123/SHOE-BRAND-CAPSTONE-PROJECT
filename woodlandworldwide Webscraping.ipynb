{
 "cells": [
  {
   "cell_type": "code",
   "execution_count": 1,
   "id": "2ba45ade",
   "metadata": {},
   "outputs": [
    {
     "name": "stdout",
     "output_type": "stream",
     "text": [
      "Requirement already satisfied: bs4 in c:\\users\\manisha singh\\onedrive\\documents\\python scripts\\lib\\site-packages (0.0.1)\n",
      "Requirement already satisfied: beautifulsoup4 in c:\\users\\manisha singh\\onedrive\\documents\\python scripts\\lib\\site-packages (from bs4) (4.12.2)\n",
      "Requirement already satisfied: soupsieve>1.2 in c:\\users\\manisha singh\\onedrive\\documents\\python scripts\\lib\\site-packages (from beautifulsoup4->bs4) (2.4)\n",
      "Requirement already satisfied: requests in c:\\users\\manisha singh\\onedrive\\documents\\python scripts\\lib\\site-packages (2.31.0)\n",
      "Requirement already satisfied: charset-normalizer<4,>=2 in c:\\users\\manisha singh\\onedrive\\documents\\python scripts\\lib\\site-packages (from requests) (2.0.4)\n",
      "Requirement already satisfied: idna<4,>=2.5 in c:\\users\\manisha singh\\onedrive\\documents\\python scripts\\lib\\site-packages (from requests) (3.4)\n",
      "Requirement already satisfied: urllib3<3,>=1.21.1 in c:\\users\\manisha singh\\onedrive\\documents\\python scripts\\lib\\site-packages (from requests) (1.26.16)\n",
      "Requirement already satisfied: certifi>=2017.4.17 in c:\\users\\manisha singh\\onedrive\\documents\\python scripts\\lib\\site-packages (from requests) (2023.7.22)\n"
     ]
    }
   ],
   "source": [
    "!pip install bs4\n",
    "!pip install requests"
   ]
  },
  {
   "cell_type": "code",
   "execution_count": 2,
   "id": "b727012b",
   "metadata": {},
   "outputs": [],
   "source": [
    "import requests\n",
    "from bs4 import BeautifulSoup\n",
    "url = \"https://www.woodlandworldwide.com/product-list/MEN_SNEAKERS\""
   ]
  },
  {
   "cell_type": "code",
   "execution_count": 3,
   "id": "197fad58",
   "metadata": {},
   "outputs": [],
   "source": [
    "r = requests.get(url)\n"
   ]
  },
  {
   "cell_type": "code",
   "execution_count": 4,
   "id": "d7959f9a",
   "metadata": {},
   "outputs": [
    {
     "name": "stdout",
     "output_type": "stream",
     "text": [
      "<!DOCTYPE html>\n",
      "<html><head><meta charset=\"utf-8\"/><meta content=\"width=device-width\" name=\"viewport\"/><link href=\"/favicon.png\" rel=\"shortcut icon\"/><meta content=\"3\" name=\"next-head-count\"/><link as=\"style\" href=\"/_next/static/css/05aab7c9bd51eb88.css\" rel=\"preload\"/><link data-n-g=\"\" href=\"/_next/static/css/05aab7c9bd51eb88.css\" rel=\"stylesheet\"/><link as=\"style\" href=\"/_next/static/css/d548cae3439b3010.css\" rel=\"preload\"/><link data-n-p=\"\" href=\"/_next/static/css/d548cae3439b3010.css\" rel=\"stylesheet\"/><link as=\"style\" href=\"/_next/static/css/7e30f748dc77b7b2.css\" rel=\"preload\"/><link data-n-p=\"\" href=\"/_next/static/css/7e30f748dc77b7b2.css\" rel=\"stylesheet\"/><noscript data-n-css=\"\"></noscript><script defer=\"\" nomodule=\"\" src=\"/_next/static/chunks/polyfills-c67a75d1b6f99dc8.js\"></script><script defer=\"\" src=\"/_next/static/chunks/webpack-73b92412f33c5c03.js\"></script><script defer=\"\" src=\"/_next/static/chunks/framework-3236775a9ca336a2.js\"></script><script defer=\"\" src=\"/_next/static/chunks/main-c7c999f317dee486.js\"></script><script defer=\"\" src=\"/_next/static/chunks/pages/_app-c828374fe4dded44.js\"></script><script defer=\"\" src=\"/_next/static/chunks/0c428ae2-227c39038a1bb04b.js\"></script><script defer=\"\" src=\"/_next/static/chunks/0eceb729-9e7537160705370c.js\"></script><script defer=\"\" src=\"/_next/static/chunks/8495-18ed8303817cc761.js\"></script><script defer=\"\" src=\"/_next/static/chunks/6333-e079e584f07e7fd9.js\"></script><script defer=\"\" src=\"/_next/static/chunks/1104-4d323819bf1ca78d.js\"></script><script defer=\"\" src=\"/_next/static/chunks/594-2d7331e44d2be93c.js\"></script><script defer=\"\" src=\"/_next/static/chunks/5373-19f66086d0134555.js\"></script><script defer=\"\" src=\"/_next/static/chunks/9487-877475a66bd9bd75.js\"></script><script defer=\"\" src=\"/_next/static/chunks/pages/product-list/%5Bslug%5D-3289e986297f64ae.js\"></script><script defer=\"\" src=\"/_next/static/VseDDpRMchHAEA48vtPdv/_buildManifest.js\"></script><script defer=\"\" src=\"/_next/static/VseDDpRMchHAEA48vtPdv/_ssgManifest.js\"></script></head><body><div id=\"__next\"></div><script id=\"__NEXT_DATA__\" type=\"application/json\">{\"props\":{\"pageProps\":{}},\"page\":\"/product-list/[slug]\",\"query\":{},\"buildId\":\"VseDDpRMchHAEA48vtPdv\",\"nextExport\":true,\"autoExport\":true,\"isFallback\":false,\"scriptLoader\":[]}</script></body></html>\n"
     ]
    }
   ],
   "source": [
    "# print(r.text)\n",
    "\n",
    "soup = BeautifulSoup(r.text,\"lxml\")\n",
    "\n",
    "print(soup)"
   ]
  },
  {
   "cell_type": "code",
   "execution_count": 5,
   "id": "0db0b6fe",
   "metadata": {},
   "outputs": [],
   "source": [
    "headers = {'User-Agent': 'Mozilla/5.0 (Windows NT 10.0; Win64; x64) AppleWebKit/537.36 (KHTML, like Gecko) Chrome/58.0.3029.110 Safari/537.3'}\n",
    "\n",
    "\n",
    "Webpage = requests.get('https://www.woodlandworldwide.com/product-list/MEN_SNEAKERS', headers=headers).text"
   ]
  },
  {
   "cell_type": "code",
   "execution_count": 6,
   "id": "13b30432",
   "metadata": {},
   "outputs": [],
   "source": [
    "Soup = BeautifulSoup (Webpage,'lxml')"
   ]
  },
  {
   "cell_type": "code",
   "execution_count": 7,
   "id": "4b8b2841",
   "metadata": {},
   "outputs": [
    {
     "name": "stdout",
     "output_type": "stream",
     "text": [
      "<!DOCTYPE html>\n",
      "<html>\n",
      " <head>\n",
      "  <meta charset=\"utf-8\"/>\n",
      "  <meta content=\"width=device-width\" name=\"viewport\"/>\n",
      "  <link href=\"/favicon.png\" rel=\"shortcut icon\"/>\n",
      "  <meta content=\"3\" name=\"next-head-count\"/>\n",
      "  <link as=\"style\" href=\"/_next/static/css/05aab7c9bd51eb88.css\" rel=\"preload\"/>\n",
      "  <link data-n-g=\"\" href=\"/_next/static/css/05aab7c9bd51eb88.css\" rel=\"stylesheet\"/>\n",
      "  <link as=\"style\" href=\"/_next/static/css/d548cae3439b3010.css\" rel=\"preload\"/>\n",
      "  <link data-n-p=\"\" href=\"/_next/static/css/d548cae3439b3010.css\" rel=\"stylesheet\"/>\n",
      "  <link as=\"style\" href=\"/_next/static/css/7e30f748dc77b7b2.css\" rel=\"preload\"/>\n",
      "  <link data-n-p=\"\" href=\"/_next/static/css/7e30f748dc77b7b2.css\" rel=\"stylesheet\"/>\n",
      "  <noscript data-n-css=\"\">\n",
      "  </noscript>\n",
      "  <script defer=\"\" nomodule=\"\" src=\"/_next/static/chunks/polyfills-c67a75d1b6f99dc8.js\">\n",
      "  </script>\n",
      "  <script defer=\"\" src=\"/_next/static/chunks/webpack-73b92412f33c5c03.js\">\n",
      "  </script>\n",
      "  <script defer=\"\" src=\"/_next/static/chunks/framework-3236775a9ca336a2.js\">\n",
      "  </script>\n",
      "  <script defer=\"\" src=\"/_next/static/chunks/main-c7c999f317dee486.js\">\n",
      "  </script>\n",
      "  <script defer=\"\" src=\"/_next/static/chunks/pages/_app-c828374fe4dded44.js\">\n",
      "  </script>\n",
      "  <script defer=\"\" src=\"/_next/static/chunks/0c428ae2-227c39038a1bb04b.js\">\n",
      "  </script>\n",
      "  <script defer=\"\" src=\"/_next/static/chunks/0eceb729-9e7537160705370c.js\">\n",
      "  </script>\n",
      "  <script defer=\"\" src=\"/_next/static/chunks/8495-18ed8303817cc761.js\">\n",
      "  </script>\n",
      "  <script defer=\"\" src=\"/_next/static/chunks/6333-e079e584f07e7fd9.js\">\n",
      "  </script>\n",
      "  <script defer=\"\" src=\"/_next/static/chunks/1104-4d323819bf1ca78d.js\">\n",
      "  </script>\n",
      "  <script defer=\"\" src=\"/_next/static/chunks/594-2d7331e44d2be93c.js\">\n",
      "  </script>\n",
      "  <script defer=\"\" src=\"/_next/static/chunks/5373-19f66086d0134555.js\">\n",
      "  </script>\n",
      "  <script defer=\"\" src=\"/_next/static/chunks/9487-877475a66bd9bd75.js\">\n",
      "  </script>\n",
      "  <script defer=\"\" src=\"/_next/static/chunks/pages/product-list/%5Bslug%5D-3289e986297f64ae.js\">\n",
      "  </script>\n",
      "  <script defer=\"\" src=\"/_next/static/VseDDpRMchHAEA48vtPdv/_buildManifest.js\">\n",
      "  </script>\n",
      "  <script defer=\"\" src=\"/_next/static/VseDDpRMchHAEA48vtPdv/_ssgManifest.js\">\n",
      "  </script>\n",
      " </head>\n",
      " <body>\n",
      "  <div id=\"__next\">\n",
      "  </div>\n",
      "  <script id=\"__NEXT_DATA__\" type=\"application/json\">\n",
      "   {\"props\":{\"pageProps\":{}},\"page\":\"/product-list/[slug]\",\"query\":{},\"buildId\":\"VseDDpRMchHAEA48vtPdv\",\"nextExport\":true,\"autoExport\":true,\"isFallback\":false,\"scriptLoader\":[]}\n",
      "  </script>\n",
      " </body>\n",
      "</html>\n",
      "\n"
     ]
    }
   ],
   "source": [
    "print (Soup.prettify())"
   ]
  },
  {
   "cell_type": "code",
   "execution_count": 17,
   "id": "5d2ea202",
   "metadata": {},
   "outputs": [],
   "source": [
    "shoesURL = \"https://www.woodlandworldwide.com/product-list/MEN_SNEAKERS\"\n",
    "\n",
    "iHeader={\n",
    "    'User-Agent':'Mozilla/5.0 (Windows NT 10.0; Win64; x64) AppleWebKit/537.36 (KHTML, like Gecko) Chrome/86.0.4240.198 Safari/537.36'\n",
    "}\n",
    "\n",
    "page = requests.get(shoesURL, headers=iHeader)"
   ]
  },
  {
   "cell_type": "code",
   "execution_count": 25,
   "id": "5cc6f9ae",
   "metadata": {},
   "outputs": [],
   "source": [
    "soup= BeautifulSoup(page.content,\"html.parser\")\n"
   ]
  },
  {
   "cell_type": "code",
   "execution_count": 28,
   "id": "0380f474",
   "metadata": {},
   "outputs": [
    {
     "name": "stdout",
     "output_type": "stream",
     "text": [
      "[]\n"
     ]
    }
   ],
   "source": [
    "products = soup.find_all('div',class_=\"MuiBox-root css-i7bmuv\")\n",
    "print(products)"
   ]
  },
  {
   "cell_type": "code",
   "execution_count": 29,
   "id": "a65bfb76",
   "metadata": {},
   "outputs": [
    {
     "data": {
      "text/plain": [
       "[]"
      ]
     },
     "execution_count": 29,
     "metadata": {},
     "output_type": "execute_result"
    }
   ],
   "source": [
    "Soup.find_all('h1')"
   ]
  },
  {
   "cell_type": "code",
   "execution_count": 30,
   "id": "1baf0ce4",
   "metadata": {},
   "outputs": [
    {
     "data": {
      "text/plain": [
       "[]"
      ]
     },
     "execution_count": 30,
     "metadata": {},
     "output_type": "execute_result"
    }
   ],
   "source": [
    "Soup.find_all('span')"
   ]
  },
  {
   "cell_type": "code",
   "execution_count": 31,
   "id": "f859a00b",
   "metadata": {},
   "outputs": [
    {
     "data": {
      "text/plain": [
       "[<div id=\"__next\"></div>]"
      ]
     },
     "execution_count": 31,
     "metadata": {},
     "output_type": "execute_result"
    }
   ],
   "source": [
    "Soup.find_all('div')"
   ]
  },
  {
   "cell_type": "code",
   "execution_count": 32,
   "id": "4845965a",
   "metadata": {},
   "outputs": [
    {
     "data": {
      "text/plain": [
       "''"
      ]
     },
     "execution_count": 32,
     "metadata": {},
     "output_type": "execute_result"
    }
   ],
   "source": [
    "Soup.find_all('div')[0].text"
   ]
  },
  {
   "cell_type": "code",
   "execution_count": null,
   "id": "6471cc35",
   "metadata": {},
   "outputs": [],
   "source": []
  }
 ],
 "metadata": {
  "kernelspec": {
   "display_name": "Python 3 (ipykernel)",
   "language": "python",
   "name": "python3"
  },
  "language_info": {
   "codemirror_mode": {
    "name": "ipython",
    "version": 3
   },
   "file_extension": ".py",
   "mimetype": "text/x-python",
   "name": "python",
   "nbconvert_exporter": "python",
   "pygments_lexer": "ipython3",
   "version": "3.11.4"
  }
 },
 "nbformat": 4,
 "nbformat_minor": 5
}
